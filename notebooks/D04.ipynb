{
 "cells": [
  {
   "cell_type": "code",
   "execution_count": 36,
   "metadata": {},
   "outputs": [],
   "source": [
    "with open('../input/D04.txt', 'r') as f:\n",
    "    passports = [p for p in f.readlines()]\n",
    "passports_cleaned = [dict(f.split(':') for f in p.strip().replace('\\n',' ').split(' ')) for p in ''.join(passports).split('\\n\\n')]"
   ]
  },
  {
   "cell_type": "code",
   "execution_count": 69,
   "metadata": {},
   "outputs": [],
   "source": [
    "import re\n",
    "mandatory_fields = [('byr', \"^\\d{4}$\", lambda byr: 1920 <= int(byr) <= 2002),\n",
    "('iyr', \"^\\d{4}$\", lambda iyr: 2010 <= int(iyr) <= 2020),\n",
    "('eyr', \"^\\d{4}$\", lambda eyr: 2020 <= int(eyr) <= 2030),\n",
    "('hgt', \"^(\\d{2}in|\\d{3}cm)$\", lambda hgt: 150 <= int(hgt[:3]) <= 193 if hgt.endswith('cm') else 59 <= int(hgt[:2]) <= 76),\n",
    "('hcl', \"^#[0-9a-f]{6}$\", None),\n",
    "('ecl', \"^(amb|blu|brn|gry|grn|hzl|oth)$\", None),\n",
    "('pid', \"^\\d{9}$\", None)]\n"
   ]
  },
  {
   "cell_type": "code",
   "execution_count": 70,
   "metadata": {},
   "outputs": [
    {
     "data": {
      "text/plain": [
       "213"
      ]
     },
     "execution_count": 70,
     "metadata": {},
     "output_type": "execute_result"
    }
   ],
   "source": [
    "def valid_passport1(passport):\n",
    "    return all(field in passport for field, _, _ in mandatory_fields)\n",
    "sum(map(valid_passport1, passports_cleaned))"
   ]
  },
  {
   "cell_type": "code",
   "execution_count": 71,
   "metadata": {},
   "outputs": [
    {
     "data": {
      "text/plain": [
       "147"
      ]
     },
     "execution_count": 71,
     "metadata": {},
     "output_type": "execute_result"
    }
   ],
   "source": [
    "def valid_passport2(passport):\n",
    "    return all(field in passport and re.match(pattern, passport[field]) and (not validation_rule or validation_rule(passport[field])) for field, pattern, validation_rule in mandatory_fields)\n",
    "sum(map(valid_passport2, passports_cleaned))"
   ]
  }
 ],
 "metadata": {
  "kernelspec": {
   "display_name": "Python 3.8.3 ('04._ML_Utils--A1wxRDZ')",
   "language": "python",
   "name": "python3"
  },
  "language_info": {
   "codemirror_mode": {
    "name": "ipython",
    "version": 3
   },
   "file_extension": ".py",
   "mimetype": "text/x-python",
   "name": "python",
   "nbconvert_exporter": "python",
   "pygments_lexer": "ipython3",
   "version": "3.8.3"
  },
  "orig_nbformat": 4,
  "vscode": {
   "interpreter": {
    "hash": "57693568fa95845605be3da01a234f4a467a6c93ef13b9c34187abb07900ecfa"
   }
  }
 },
 "nbformat": 4,
 "nbformat_minor": 2
}
