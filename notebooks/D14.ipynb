{
 "cells": [
  {
   "cell_type": "code",
   "execution_count": 1,
   "metadata": {},
   "outputs": [],
   "source": [
    "import re\n",
    "import numpy as np"
   ]
  },
  {
   "cell_type": "code",
   "execution_count": 2,
   "metadata": {},
   "outputs": [],
   "source": [
    "data = open('../input/D14.txt','r').readlines()"
   ]
  },
  {
   "cell_type": "code",
   "execution_count": 3,
   "metadata": {},
   "outputs": [],
   "source": [
    "def initialization_program(data, version=1):\n",
    "\n",
    "    mask_re = re.compile(\"^mask = ([10X]+)$\")\n",
    "    mem_re = re.compile(\"^mem\\[(\\d+)\\] = (\\d+)$\")\n",
    "\n",
    "    def generate_addresses(addr):\n",
    "        np_addr = np.array(list(addr))\n",
    "        xloc = np.argwhere(np_addr == \"X\")\n",
    "        for i in range(2**xloc.size):\n",
    "            np_addr[xloc] = np.vstack(f\"{i:b}\".zfill(xloc.size))\n",
    "            yield \"\".join(np_addr)\n",
    "            \n",
    "    mem = {}\n",
    "    for entry in data:\n",
    "        mask_line = mask_re.match(entry)\n",
    "        if mask_line:\n",
    "            mask = mask_line.groups()[0]\n",
    "            set_val = int(mask.replace(\"X\",\"0\"), 2)\n",
    "            clr_val = int(mask.replace(\"X\", \"1\"), 2)\n",
    "            continue\n",
    "\n",
    "        addr, value = mem_re.match(entry).groups()\n",
    "        if version==1:\n",
    "            mem[addr] = (int(value) | set_val) & clr_val\n",
    "        elif version==2:\n",
    "            addr = int(addr) | set_val\n",
    "            new_addr = \"\".join([m if m == \"X\" else a for m, a in zip(mask, f\"{addr:036b}\")])\n",
    "\n",
    "            for addr_candidate in generate_addresses(new_addr):\n",
    "                mem[addr_candidate] = int(value)\n",
    "    return sum(mem.values())\n",
    "    "
   ]
  },
  {
   "cell_type": "code",
   "execution_count": 4,
   "metadata": {},
   "outputs": [
    {
     "data": {
      "text/plain": [
       "8471403462063"
      ]
     },
     "execution_count": 4,
     "metadata": {},
     "output_type": "execute_result"
    }
   ],
   "source": [
    "initialization_program(data, version=1)"
   ]
  },
  {
   "cell_type": "code",
   "execution_count": 5,
   "metadata": {},
   "outputs": [
    {
     "data": {
      "text/plain": [
       "2667858637669"
      ]
     },
     "execution_count": 5,
     "metadata": {},
     "output_type": "execute_result"
    }
   ],
   "source": [
    "initialization_program(data, version=2)"
   ]
  },
  {
   "cell_type": "code",
   "execution_count": null,
   "metadata": {},
   "outputs": [],
   "source": []
  }
 ],
 "metadata": {
  "kernelspec": {
   "display_name": "Python 3.8.3 ('04._ML_Utils--A1wxRDZ')",
   "language": "python",
   "name": "python3"
  },
  "language_info": {
   "codemirror_mode": {
    "name": "ipython",
    "version": 3
   },
   "file_extension": ".py",
   "mimetype": "text/x-python",
   "name": "python",
   "nbconvert_exporter": "python",
   "pygments_lexer": "ipython3",
   "version": "3.8.3"
  },
  "orig_nbformat": 4,
  "vscode": {
   "interpreter": {
    "hash": "57693568fa95845605be3da01a234f4a467a6c93ef13b9c34187abb07900ecfa"
   }
  }
 },
 "nbformat": 4,
 "nbformat_minor": 2
}
