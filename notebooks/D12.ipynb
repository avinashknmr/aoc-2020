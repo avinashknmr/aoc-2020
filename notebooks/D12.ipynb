{
 "cells": [
  {
   "cell_type": "code",
   "execution_count": 1,
   "metadata": {},
   "outputs": [],
   "source": [
    "import numpy as np"
   ]
  },
  {
   "cell_type": "code",
   "execution_count": 20,
   "metadata": {},
   "outputs": [],
   "source": [
    "instructions = open('../input/D12.txt', 'r', encoding='utf-8').read().splitlines()\n",
    "instructions = [(i[0], int(i[1:])) for i in instructions]"
   ]
  },
  {
   "cell_type": "code",
   "execution_count": 21,
   "metadata": {},
   "outputs": [],
   "source": [
    "directions = {'N':np.array([0, 1]), 'S':np.array([0, -1]), 'E':np.array([1, 0]), 'W':np.array([-1, 0])}\n",
    "\n",
    "def rotate_2d_clockwise(vector, degrees):\n",
    "    # For 2D Rotation matrix, see: https://en.wikipedia.org/wiki/Rotation_matrix\n",
    "    radians = np.pi * degrees / 180.0 \n",
    "    return np.round(np.dot(vector, np.array([[np.cos(radians), -np.sin(radians)], \n",
    "                                             [np.sin(radians),  np.cos(radians)]])), 6)"
   ]
  },
  {
   "cell_type": "code",
   "execution_count": 24,
   "metadata": {},
   "outputs": [],
   "source": [
    "def sail(position, waypoint, change_waypoint=False):\n",
    "    for direction, value in instructions:\n",
    "        if direction in directions:\n",
    "            if change_waypoint:\n",
    "                waypoint += directions[direction]*value\n",
    "            else:\n",
    "                position += directions[direction]*value\n",
    "        elif direction=='F':\n",
    "            position += waypoint*value\n",
    "        elif direction=='L':\n",
    "            waypoint = rotate_2d_clockwise(waypoint, -value)\n",
    "        elif direction=='R':\n",
    "            waypoint = rotate_2d_clockwise(waypoint, value)\n",
    "    return int(np.sum(np.abs(position)))\n"
   ]
  },
  {
   "cell_type": "code",
   "execution_count": 25,
   "metadata": {},
   "outputs": [
    {
     "data": {
      "text/plain": [
       "796"
      ]
     },
     "execution_count": 25,
     "metadata": {},
     "output_type": "execute_result"
    }
   ],
   "source": [
    "position = np.array([0.0, 0.0])\n",
    "waypoint = np.array([1.0, 0.0])\n",
    "sail(position, waypoint)"
   ]
  },
  {
   "cell_type": "code",
   "execution_count": 27,
   "metadata": {},
   "outputs": [
    {
     "data": {
      "text/plain": [
       "39446"
      ]
     },
     "execution_count": 27,
     "metadata": {},
     "output_type": "execute_result"
    }
   ],
   "source": [
    "position = np.array([0.0, 0.0])\n",
    "waypoint = np.array([10.0, 1.0])\n",
    "sail(position, waypoint, True)"
   ]
  }
 ],
 "metadata": {
  "kernelspec": {
   "display_name": "Python 3.8.3 ('04._ML_Utils--A1wxRDZ')",
   "language": "python",
   "name": "python3"
  },
  "language_info": {
   "codemirror_mode": {
    "name": "ipython",
    "version": 3
   },
   "file_extension": ".py",
   "mimetype": "text/x-python",
   "name": "python",
   "nbconvert_exporter": "python",
   "pygments_lexer": "ipython3",
   "version": "3.8.3"
  },
  "orig_nbformat": 4,
  "vscode": {
   "interpreter": {
    "hash": "57693568fa95845605be3da01a234f4a467a6c93ef13b9c34187abb07900ecfa"
   }
  }
 },
 "nbformat": 4,
 "nbformat_minor": 2
}
