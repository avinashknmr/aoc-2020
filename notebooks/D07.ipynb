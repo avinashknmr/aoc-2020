{
 "cells": [
  {
   "cell_type": "code",
   "execution_count": 1,
   "metadata": {},
   "outputs": [],
   "source": [
    "import re\n",
    "from functools import lru_cache"
   ]
  },
  {
   "cell_type": "code",
   "execution_count": 2,
   "metadata": {},
   "outputs": [],
   "source": [
    "data = open('../input/D07.txt', 'r', encoding='utf-8').read().splitlines()"
   ]
  },
  {
   "cell_type": "code",
   "execution_count": 3,
   "metadata": {},
   "outputs": [],
   "source": [
    "pattern = re.compile(\"(?P<amount>\\d+)? ?(?P<type>\\w+ \\w+) bag[s]?\")\n",
    "parsed = [re.findall(pattern, line) for line in data]\n",
    "bags = dict((bag[0][1], set((inner_bag[1], int(inner_bag[0])) for inner_bag in bag[1:] if inner_bag[1] != 'no other')) for bag in parsed)"
   ]
  },
  {
   "cell_type": "code",
   "execution_count": 4,
   "metadata": {},
   "outputs": [
    {
     "data": {
      "text/plain": [
       "261"
      ]
     },
     "execution_count": 4,
     "metadata": {},
     "output_type": "execute_result"
    }
   ],
   "source": [
    "def count_bags(checked_bag):\n",
    "    @lru_cache(maxsize=None)\n",
    "    def contains_bag(outer_bag, checked_bag):\n",
    "        return (   any(checked_bag == inner_bag[0]             for inner_bag in bags[outer_bag])\n",
    "                or any(contains_bag(inner_bag[0], checked_bag) for inner_bag in bags[outer_bag]))\n",
    "    return sum(contains_bag(bag, checked_bag) for bag in bags)\n",
    "\n",
    "count_bags('shiny gold')"
   ]
  },
  {
   "cell_type": "code",
   "execution_count": 5,
   "metadata": {},
   "outputs": [
    {
     "data": {
      "text/plain": [
       "3765"
      ]
     },
     "execution_count": 5,
     "metadata": {},
     "output_type": "execute_result"
    }
   ],
   "source": [
    "def count_checked_bags(checked_bag):\n",
    "    @lru_cache(maxsize=None)\n",
    "    def count_total_checked_bags(checked_bag):\n",
    "        return (1                                                                              # Current bag.\n",
    "                + sum(inner_bag[1] * (count_total_checked_bags(inner_bag[0]))  # Inner bags.\n",
    "                      for inner_bag in bags[checked_bag]))\n",
    "    return (count_total_checked_bags(checked_bag) - 1)\n",
    "\n",
    "count_checked_bags('shiny gold')"
   ]
  },
  {
   "cell_type": "code",
   "execution_count": null,
   "metadata": {},
   "outputs": [],
   "source": []
  }
 ],
 "metadata": {
  "kernelspec": {
   "display_name": "Python 3.8.3 ('04._ML_Utils--A1wxRDZ')",
   "language": "python",
   "name": "python3"
  },
  "language_info": {
   "codemirror_mode": {
    "name": "ipython",
    "version": 3
   },
   "file_extension": ".py",
   "mimetype": "text/x-python",
   "name": "python",
   "nbconvert_exporter": "python",
   "pygments_lexer": "ipython3",
   "version": "3.8.3"
  },
  "orig_nbformat": 4,
  "vscode": {
   "interpreter": {
    "hash": "57693568fa95845605be3da01a234f4a467a6c93ef13b9c34187abb07900ecfa"
   }
  }
 },
 "nbformat": 4,
 "nbformat_minor": 2
}
