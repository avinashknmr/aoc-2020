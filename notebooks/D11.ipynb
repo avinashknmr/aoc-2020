{
 "cells": [
  {
   "cell_type": "code",
   "execution_count": 1,
   "metadata": {},
   "outputs": [],
   "source": [
    "import numpy as np\n",
    "from itertools import product\n",
    "from scipy.signal import convolve2d"
   ]
  },
  {
   "cell_type": "code",
   "execution_count": 2,
   "metadata": {},
   "outputs": [],
   "source": [
    "data = open('../input/D11.txt', 'r', encoding='utf-8').read().splitlines()\n",
    "seating = np.array([list(r) for r in data])\n",
    "seating = (seating == '#') * 1 - (seating == '.') * 1 # '.' = floor (-1), 'L' = empty (0), '#' = occupied (1)"
   ]
  },
  {
   "cell_type": "code",
   "execution_count": 12,
   "metadata": {},
   "outputs": [],
   "source": [
    "def simulate_seating(seating, occupied_tolerance, first_seat=False):\n",
    "    seat_changes = np.array([1])\n",
    "    seating = np.copy(seating)\n",
    "    while seat_changes.any():\n",
    "        if first_seat:\n",
    "            adjacent_seats = np.zeros(seating.shape)\n",
    "            for row, col in product(range(seating.shape[0]), range(seating.shape[1])):\n",
    "                adjacent_seats[row, col] = np.sum([\n",
    "                    1 == next((x for x in         np.flip( seating[:row,   col   ])     if x != -1), 0),  # UP\n",
    "                    1 == next((x for x in                  seating[row+1:, col   ]      if x != -1), 0),  # DOWN\n",
    "                    1 == next((x for x in         np.flip( seating[row,    :col  ])     if x != -1), 0),  # LEFT\n",
    "                    1 == next((x for x in                  seating[row,    col+1:]      if x != -1), 0),  # RIGHT\n",
    "                    1 == next((x for x in np.diag(         seating[row+1:, col+1:])     if x != -1), 0),  # BOTTOM-RIGHT\n",
    "                    1 == next((x for x in np.diag(np.rot90(seating[row+1:, :col  ], 1)) if x != -1), 0),  # BOTTOM-LEFT\n",
    "                    1 == next((x for x in np.diag(np.rot90(seating[:row,   :col  ], 2)) if x != -1), 0),  # TOP-LEFT\n",
    "                    1 == next((x for x in np.diag(np.rot90(seating[:row,   col+1:],-1)) if x != -1), 0),  # TOP-RIGHT  \n",
    "                ])\n",
    "        else:\n",
    "            convolution_matrix = np.array([[1,1,1], [1,0,1], [1,1,1]])\n",
    "            adjacent_seats = convolve2d(seating > 0, in2=convolution_matrix, boundary='fill', fillvalue=0)[1:-1,1:-1]\n",
    "        seat_changes = (  (seating == 0) * (adjacent_seats == 0)                  *  1 \n",
    "                        + (seating == 1)  * (adjacent_seats >= occupied_tolerance) * -1)\n",
    "        seating += seat_changes\n",
    "    return (seating > 0).sum()"
   ]
  },
  {
   "cell_type": "code",
   "execution_count": 13,
   "metadata": {},
   "outputs": [
    {
     "data": {
      "text/plain": [
       "2247"
      ]
     },
     "execution_count": 13,
     "metadata": {},
     "output_type": "execute_result"
    }
   ],
   "source": [
    "simulate_seating(seating, occupied_tolerance=4, first_seat=False)"
   ]
  },
  {
   "cell_type": "code",
   "execution_count": 14,
   "metadata": {},
   "outputs": [
    {
     "data": {
      "text/plain": [
       "2011"
      ]
     },
     "execution_count": 14,
     "metadata": {},
     "output_type": "execute_result"
    }
   ],
   "source": [
    "simulate_seating(seating, occupied_tolerance=5, first_seat=True)"
   ]
  }
 ],
 "metadata": {
  "kernelspec": {
   "display_name": "Python 3.8.3 ('04._ML_Utils--A1wxRDZ')",
   "language": "python",
   "name": "python3"
  },
  "language_info": {
   "codemirror_mode": {
    "name": "ipython",
    "version": 3
   },
   "file_extension": ".py",
   "mimetype": "text/x-python",
   "name": "python",
   "nbconvert_exporter": "python",
   "pygments_lexer": "ipython3",
   "version": "3.8.3"
  },
  "orig_nbformat": 4,
  "vscode": {
   "interpreter": {
    "hash": "57693568fa95845605be3da01a234f4a467a6c93ef13b9c34187abb07900ecfa"
   }
  }
 },
 "nbformat": 4,
 "nbformat_minor": 2
}
