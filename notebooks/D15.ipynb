{
 "cells": [
  {
   "cell_type": "code",
   "execution_count": 1,
   "metadata": {},
   "outputs": [],
   "source": [
    "import numpy as np\n",
    "from tqdm import tqdm"
   ]
  },
  {
   "cell_type": "code",
   "execution_count": 2,
   "metadata": {},
   "outputs": [],
   "source": [
    "input = [20,9,11,0,1,2]"
   ]
  },
  {
   "cell_type": "code",
   "execution_count": 5,
   "metadata": {},
   "outputs": [],
   "source": [
    "def memory_game(input, stop=2020):\n",
    "    n = len(input)\n",
    "    while n<stop:\n",
    "        if input[-1] not in input[:-1]:\n",
    "            input.append(0)\n",
    "        else:\n",
    "            input.append(np.diff(np.where(np.array(input)==input[-1])[0].tolist()[-2:])[0])\n",
    "        n += 1\n",
    "    return input[-1]"
   ]
  },
  {
   "cell_type": "code",
   "execution_count": 6,
   "metadata": {},
   "outputs": [
    {
     "data": {
      "text/plain": [
       "1111"
      ]
     },
     "execution_count": 6,
     "metadata": {},
     "output_type": "execute_result"
    }
   ],
   "source": [
    "memory_game(input.copy(), 2020)"
   ]
  },
  {
   "cell_type": "code",
   "execution_count": 7,
   "metadata": {},
   "outputs": [],
   "source": [
    "def optimized_memory_game(input, stop=2020):\n",
    "    starting, next_num = input[:-1], input[-1]\n",
    "    n = len(starting)\n",
    "    mem = {x: np.where(np.array(starting)==x)[0].tolist()[-2:] for x in set(starting)}\n",
    "    for x in tqdm(range(n, stop-1)):\n",
    "        if next_num not in mem:\n",
    "            mem[next_num] = [x]\n",
    "            next_num = 0\n",
    "        else:\n",
    "            if len(mem[next_num])>1:\n",
    "                mem[next_num].pop(0)\n",
    "            mem[next_num] += [x]\n",
    "            next_num = np.diff(mem[next_num][-2:])[0]\n",
    "    return next_num\n",
    "    "
   ]
  },
  {
   "cell_type": "code",
   "execution_count": 8,
   "metadata": {},
   "outputs": [
    {
     "name": "stderr",
     "output_type": "stream",
     "text": [
      "100%|██████████| 2014/2014 [00:00<00:00, 128492.11it/s]\n"
     ]
    },
    {
     "data": {
      "text/plain": [
       "1111"
      ]
     },
     "execution_count": 8,
     "metadata": {},
     "output_type": "execute_result"
    }
   ],
   "source": [
    "optimized_memory_game(input.copy(), 2020)"
   ]
  },
  {
   "cell_type": "code",
   "execution_count": 9,
   "metadata": {},
   "outputs": [
    {
     "name": "stderr",
     "output_type": "stream",
     "text": [
      "100%|██████████| 29999994/29999994 [02:47<00:00, 178786.22it/s]\n"
     ]
    },
    {
     "data": {
      "text/plain": [
       "48568"
      ]
     },
     "execution_count": 9,
     "metadata": {},
     "output_type": "execute_result"
    }
   ],
   "source": [
    "optimized_memory_game(input.copy(), 30000000)"
   ]
  }
 ],
 "metadata": {
  "kernelspec": {
   "display_name": "Python 3.9.13 ('AOC-f0fObxNH')",
   "language": "python",
   "name": "python3"
  },
  "language_info": {
   "codemirror_mode": {
    "name": "ipython",
    "version": 3
   },
   "file_extension": ".py",
   "mimetype": "text/x-python",
   "name": "python",
   "nbconvert_exporter": "python",
   "pygments_lexer": "ipython3",
   "version": "3.9.13"
  },
  "orig_nbformat": 4,
  "vscode": {
   "interpreter": {
    "hash": "4d2e615df860dbb8dab799da6c49ca2875c6babc41706b5923d6502e2954ccfd"
   }
  }
 },
 "nbformat": 4,
 "nbformat_minor": 2
}
