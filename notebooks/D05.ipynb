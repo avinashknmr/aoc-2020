{
 "cells": [
  {
   "cell_type": "code",
   "execution_count": 1,
   "metadata": {},
   "outputs": [],
   "source": [
    "with open('../input/D05.txt', 'r') as f:\n",
    "    boarding_passes = [p.strip() for p in f.readlines()]"
   ]
  },
  {
   "cell_type": "code",
   "execution_count": 2,
   "metadata": {},
   "outputs": [],
   "source": [
    "def get_seat_number(boarding_pass):\n",
    "    min_row, max_row, min_col, max_col = 0, 127, 0, 7\n",
    "    for x in boarding_pass[:7]:\n",
    "        if x =='F':\n",
    "            max_row = max_row - (max_row - min_row + 1)//2\n",
    "        elif x=='B':\n",
    "            min_row = min_row + (max_row - min_row + 1)//2\n",
    "        if min_row==max_row: continue\n",
    "    for y in boarding_pass[7:]:\n",
    "        if y =='L':\n",
    "            max_col = max_col - (max_col - min_col + 1)//2\n",
    "        elif y=='R':\n",
    "            min_col = min_col + (max_col - min_col + 1)//2\n",
    "        if min_col==max_col: continue\n",
    "    return 8*min_row+min_col"
   ]
  },
  {
   "cell_type": "code",
   "execution_count": 3,
   "metadata": {},
   "outputs": [
    {
     "data": {
      "text/plain": [
       "987"
      ]
     },
     "execution_count": 3,
     "metadata": {},
     "output_type": "execute_result"
    }
   ],
   "source": [
    "seats = [get_seat_number(boarding_pass) for boarding_pass in boarding_passes]\n",
    "max(seats)"
   ]
  },
  {
   "cell_type": "code",
   "execution_count": 4,
   "metadata": {},
   "outputs": [
    {
     "data": {
      "text/plain": [
       "603"
      ]
     },
     "execution_count": 4,
     "metadata": {},
     "output_type": "execute_result"
    }
   ],
   "source": [
    "[x for x in range(min(seats), max(seats)+1) if x not in seats][0]"
   ]
  },
  {
   "cell_type": "markdown",
   "metadata": {},
   "source": [
    "Taken the below solution from **Dor Kedem** for reference purposes"
   ]
  },
  {
   "cell_type": "code",
   "execution_count": 5,
   "metadata": {},
   "outputs": [
    {
     "data": {
      "text/plain": [
       "987"
      ]
     },
     "execution_count": 5,
     "metadata": {},
     "output_type": "execute_result"
    }
   ],
   "source": [
    "binary_translator = str.maketrans({\"B\": \"1\", \"F\": \"0\", \"R\": \"1\", \"L\": \"0\"})\n",
    "sorted_seats = sorted(int(boarding_pass.translate(binary_translator), 2) for boarding_pass in boarding_passes)\n",
    "sorted_seats[-1]"
   ]
  },
  {
   "cell_type": "code",
   "execution_count": 6,
   "metadata": {},
   "outputs": [
    {
     "data": {
      "text/plain": [
       "603"
      ]
     },
     "execution_count": 6,
     "metadata": {},
     "output_type": "execute_result"
    }
   ],
   "source": [
    "[expected for expected, actual in zip(range(sorted_seats[0], sorted_seats[-1]), sorted_seats) if expected != actual][0]"
   ]
  },
  {
   "cell_type": "code",
   "execution_count": null,
   "metadata": {},
   "outputs": [],
   "source": []
  }
 ],
 "metadata": {
  "kernelspec": {
   "display_name": "Python 3.8.3 ('04._ML_Utils--A1wxRDZ')",
   "language": "python",
   "name": "python3"
  },
  "language_info": {
   "codemirror_mode": {
    "name": "ipython",
    "version": 3
   },
   "file_extension": ".py",
   "mimetype": "text/x-python",
   "name": "python",
   "nbconvert_exporter": "python",
   "pygments_lexer": "ipython3",
   "version": "3.8.3"
  },
  "orig_nbformat": 4,
  "vscode": {
   "interpreter": {
    "hash": "57693568fa95845605be3da01a234f4a467a6c93ef13b9c34187abb07900ecfa"
   }
  }
 },
 "nbformat": 4,
 "nbformat_minor": 2
}
