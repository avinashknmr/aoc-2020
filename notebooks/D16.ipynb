{
 "cells": [
  {
   "cell_type": "code",
   "execution_count": 3,
   "metadata": {},
   "outputs": [],
   "source": [
    "from math import prod\n",
    "from operator import lt, gt, eq"
   ]
  },
  {
   "cell_type": "code",
   "execution_count": 4,
   "metadata": {},
   "outputs": [],
   "source": [
    "with open('../input/D16.txt', 'r') as f:\n",
    "    hex = f.readline().strip()\n",
    "    \n",
    "def convert_hex_to_binary(hex):\n",
    "    return bin(int(hex,16))[2:].zfill(4*len(hex))"
   ]
  },
  {
   "cell_type": "code",
   "execution_count": 13,
   "metadata": {},
   "outputs": [],
   "source": [
    "def string_split(st, split):\n",
    "    packets = []\n",
    "    while split:\n",
    "        l = split.pop(0)\n",
    "        packets.append(st[:l])\n",
    "        st = st[l:]\n",
    "    packets.append(st)\n",
    "    return packets\n",
    "\n",
    "def literal_value(packets):\n",
    "    literals = []\n",
    "    while packets:\n",
    "        sub_packet = packets.pop(0)\n",
    "        if sub_packet[0]==1:\n",
    "            literals.append(sub_packet[1:])\n",
    "            break\n",
    "        else:\n",
    "            literals.append(sub_packet[1:])\n",
    "    return int(''.join(literals), 2)\n",
    "\n",
    "def \n",
    "\n",
    "def find_value(packet):\n",
    "    lengths = {'0': 15, '1': 11}\n",
    "    packet_operations = {\n",
    "        0: sum,\n",
    "        1: prod,\n",
    "        2: min,\n",
    "        3: max,\n",
    "        5: gt,\n",
    "        6: lt,\n",
    "        7: eq\n",
    "    }\n",
    "\n",
    "    def find_version_type_length(packet, split=[3,3,1]):\n",
    "        return [int(d,2) if i<2 else d for i, d in enumerate(string_split(packet, split))]\n",
    "    sum_versions = 0\n",
    "    result = {}\n",
    "    while '1' in packet:\n",
    "        version, type, packet = find_version_type_length(packet, [3,3])\n",
    "        print(type)\n",
    "        if type==4:\n",
    "            literals=''\n",
    "            while packet[0]=='1':\n",
    "                literals+=packet[1:5]\n",
    "                packet = packet[5:]\n",
    "            literals+=packet[1:5]\n",
    "            packet = packet[5:]\n",
    "            literals = int(literals, 2)\n",
    "            print('value',literals)\n",
    "            result[parent_type].append(literals)\n",
    "        else:\n",
    "            length = lengths[packet[0]]\n",
    "            length_value = int(packet[1:1+length], 2)\n",
    "            packet = packet[1+length:]\n",
    "            parent_type = type\n",
    "            result[parent_type] = []\n",
    "        sum_versions+=version \n",
    "    return sum_versions"
   ]
  },
  {
   "cell_type": "code",
   "execution_count": 14,
   "metadata": {},
   "outputs": [
    {
     "name": "stdout",
     "output_type": "stream",
     "text": [
      "7\n",
      "0\n",
      "4\n",
      "value 1\n",
      "4\n",
      "value 3\n",
      "1\n",
      "4\n",
      "value 2\n",
      "4\n",
      "value 2\n"
     ]
    },
    {
     "data": {
      "text/plain": [
       "4"
      ]
     },
     "execution_count": 14,
     "metadata": {},
     "output_type": "execute_result"
    }
   ],
   "source": [
    "find_value(convert_hex_to_binary('9C0141080250320F1802104A08'))[1]"
   ]
  },
  {
   "cell_type": "code",
   "execution_count": null,
   "metadata": {},
   "outputs": [],
   "source": []
  }
 ],
 "metadata": {
  "kernelspec": {
   "display_name": "Python 3.8.3 ('04._ML_Utils--A1wxRDZ')",
   "language": "python",
   "name": "python3"
  },
  "language_info": {
   "codemirror_mode": {
    "name": "ipython",
    "version": 3
   },
   "file_extension": ".py",
   "mimetype": "text/x-python",
   "name": "python",
   "nbconvert_exporter": "python",
   "pygments_lexer": "ipython3",
   "version": "3.8.3"
  },
  "orig_nbformat": 4,
  "vscode": {
   "interpreter": {
    "hash": "57693568fa95845605be3da01a234f4a467a6c93ef13b9c34187abb07900ecfa"
   }
  }
 },
 "nbformat": 4,
 "nbformat_minor": 2
}
