{
 "cells": [
  {
   "cell_type": "code",
   "execution_count": 1,
   "metadata": {},
   "outputs": [],
   "source": [
    "commands = open('../input/D08.txt', 'r', encoding='utf-8').read().splitlines()"
   ]
  },
  {
   "cell_type": "code",
   "execution_count": 2,
   "metadata": {},
   "outputs": [],
   "source": [
    "def boot_code(changes=0, accumulator=0, pointer=0, executed=None):\n",
    "    already_executed_index = executed if executed else []\n",
    "    while pointer < len(commands) and pointer not in already_executed_index:\n",
    "        command = commands[pointer].split(' ')\n",
    "        already_executed_index.append(pointer)\n",
    "        if command[0]=='acc':\n",
    "            accumulator+=int(command[1])\n",
    "        elif changes:\n",
    "            fixed_accumulator, fixed = boot_code(\n",
    "                    changes=changes-1,\n",
    "                    accumulator=accumulator,\n",
    "                    pointer=pointer+(1 if command[0] == 'jmp' else int(command[1])),\n",
    "                    executed=already_executed_index.copy()\n",
    "                )\n",
    "            if fixed:\n",
    "                return fixed_accumulator, fixed\n",
    "        pointer += (1 if command[0] != 'jmp' else int(command[1]))\n",
    "    return accumulator, pointer >= len(commands)"
   ]
  },
  {
   "cell_type": "code",
   "execution_count": 3,
   "metadata": {},
   "outputs": [
    {
     "data": {
      "text/plain": [
       "(1744, False)"
      ]
     },
     "execution_count": 3,
     "metadata": {},
     "output_type": "execute_result"
    }
   ],
   "source": [
    "boot_code(changes=0)"
   ]
  },
  {
   "cell_type": "code",
   "execution_count": 4,
   "metadata": {},
   "outputs": [
    {
     "data": {
      "text/plain": [
       "(1174, True)"
      ]
     },
     "execution_count": 4,
     "metadata": {},
     "output_type": "execute_result"
    }
   ],
   "source": [
    "boot_code(changes=1)"
   ]
  },
  {
   "cell_type": "code",
   "execution_count": null,
   "metadata": {},
   "outputs": [],
   "source": []
  }
 ],
 "metadata": {
  "kernelspec": {
   "display_name": "Python 3.8.3 ('04._ML_Utils--A1wxRDZ')",
   "language": "python",
   "name": "python3"
  },
  "language_info": {
   "codemirror_mode": {
    "name": "ipython",
    "version": 3
   },
   "file_extension": ".py",
   "mimetype": "text/x-python",
   "name": "python",
   "nbconvert_exporter": "python",
   "pygments_lexer": "ipython3",
   "version": "3.8.3"
  },
  "orig_nbformat": 4,
  "vscode": {
   "interpreter": {
    "hash": "57693568fa95845605be3da01a234f4a467a6c93ef13b9c34187abb07900ecfa"
   }
  }
 },
 "nbformat": 4,
 "nbformat_minor": 2
}
