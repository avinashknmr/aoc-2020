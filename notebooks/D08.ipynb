{
 "cells": [
  {
   "cell_type": "code",
   "execution_count": 2,
   "metadata": {},
   "outputs": [],
   "source": [
    "commands = open('../input/D08.txt', 'r', encoding='utf-8').read().splitlines()"
   ]
  },
  {
   "cell_type": "code",
   "execution_count": 90,
   "metadata": {},
   "outputs": [],
   "source": [
    "def boot_code(changes=0, accumulator=0, pointer=0, executed=None):\n",
    "    already_executed_index = executed if executed else []\n",
    "    while pointer < len(commands) and pointer not in already_executed_index:\n",
    "        command = commands[pointer].split(' ')\n",
    "        already_executed_index.append(pointer)\n",
    "        if command[0]=='acc':\n",
    "            accumulator+=int(command[1])\n",
    "        elif changes:\n",
    "            fixed, fixed_accumulator = boot_code(changes=changes-1, accumulator=accumulator, pointer=pointer+(1 if command[0] == 'jmp' else int(command[1])), executed=already_executed_index.copy())\n",
    "            if fixed:\n",
    "                return fixed, fixed_accumulator\n",
    "        pointer += (1 if command[0] != 'jmp' else int(command[1]))\n",
    "    return pointer >= len(commands), accumulator"
   ]
  },
  {
   "cell_type": "code",
   "execution_count": 91,
   "metadata": {},
   "outputs": [
    {
     "data": {
      "text/plain": [
       "(False, 1744)"
      ]
     },
     "execution_count": 91,
     "metadata": {},
     "output_type": "execute_result"
    }
   ],
   "source": [
    "boot_code(changes=0)"
   ]
  },
  {
   "cell_type": "code",
   "execution_count": 92,
   "metadata": {},
   "outputs": [
    {
     "data": {
      "text/plain": [
       "(True, 1174)"
      ]
     },
     "execution_count": 92,
     "metadata": {},
     "output_type": "execute_result"
    }
   ],
   "source": [
    "boot_code(changes=1)"
   ]
  }
 ],
 "metadata": {
  "kernelspec": {
   "display_name": "Python 3.8.3 ('04._ML_Utils--A1wxRDZ')",
   "language": "python",
   "name": "python3"
  },
  "language_info": {
   "codemirror_mode": {
    "name": "ipython",
    "version": 3
   },
   "file_extension": ".py",
   "mimetype": "text/x-python",
   "name": "python",
   "nbconvert_exporter": "python",
   "pygments_lexer": "ipython3",
   "version": "3.8.3"
  },
  "orig_nbformat": 4,
  "vscode": {
   "interpreter": {
    "hash": "57693568fa95845605be3da01a234f4a467a6c93ef13b9c34187abb07900ecfa"
   }
  }
 },
 "nbformat": 4,
 "nbformat_minor": 2
}
